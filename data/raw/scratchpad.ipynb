{
  "cells": [
    {
      "cell_type": "code",
      "execution_count": 42,
      "metadata": {
        "id": "Q7mL1qEzcoXs"
      },
      "outputs": [],
      "source": [
        "import pandas as pd\n",
        "from ctgan import CTGAN\n",
        "import time\n",
        "import warnings\n",
        "warnings.filterwarnings(\"ignore\")"
      ]
    },
    {
      "cell_type": "code",
      "execution_count": 44,
      "metadata": {
        "id": "RJjhtDJNelTr"
      },
      "outputs": [],
      "source": [
        "categorical_features = ['CustomerID','Gender', 'Age','Spending Score (1-100)', 'Profession', 'Work Experience',\n",
        "       'Family Size']\n",
        "df = pd.read_csv(\"https://raw.githubusercontent.com/iamlekh/customer_spending/main/data/raw/Customers.csv\")"
      ]
    },
    {
      "cell_type": "code",
      "execution_count": 45,
      "metadata": {
        "id": "_nRuofDwfLfu"
      },
      "outputs": [],
      "source": [
        "ctgan = CTGAN(verbose=False)\n",
        "ctgan.fit(df, categorical_features, epochs = 100)"
      ]
    },
    {
      "cell_type": "code",
      "execution_count": 46,
      "metadata": {
        "id": "BiCckKejguCQ"
      },
      "outputs": [],
      "source": [
        "file_name = str(time.strftime(\"%d%m%Y\")) + \"_df.csv\"\n",
        "samples = ctgan.sample(2000)\n",
        "\n",
        "samples.to_csv(file_name,index = False)"
      ]
    }
  ],
  "metadata": {
    "accelerator": "GPU",
    "colab": {
      "name": "scratchpad",
      "provenance": []
    },
    "gpuClass": "standard",
    "kernelspec": {
      "display_name": "Python 3",
      "name": "python3"
    }
  },
  "nbformat": 4,
  "nbformat_minor": 0
}
