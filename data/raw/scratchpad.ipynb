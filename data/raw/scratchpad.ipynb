{
  "cells": [
    {
      "cell_type": "code",
      "source": [
        "import pandas as pd\n",
        "from ctgan import CTGAN\n",
        "import time"
      ],
      "metadata": {
        "id": "Q7mL1qEzcoXs"
      },
      "execution_count": 42,
      "outputs": []
    },
    {
      "cell_type": "code",
      "source": [
        "categorical_features = ['CustomerID','Gender', 'Age','Spending Score (1-100)', 'Profession', 'Work Experience',\n",
        "       'Family Size']\n",
        "df = pd.read_csv(\"https://raw.githubusercontent.com/iamlekh/customer_spending/main/data/raw/Customers.csv\")"
      ],
      "metadata": {
        "id": "RJjhtDJNelTr"
      },
      "execution_count": 44,
      "outputs": []
    },
    {
      "cell_type": "code",
      "source": [
        "ctgan = CTGAN(verbose=False)\n",
        "ctgan.fit(df, categorical_features, epochs = 100)"
      ],
      "metadata": {
        "id": "_nRuofDwfLfu"
      },
      "execution_count": 45,
      "outputs": []
    },
    {
      "cell_type": "code",
      "source": [
        "file_name = str(time.strftime(\"%d%m%Y\")) + \"_df.csv\"\n",
        "samples = ctgan.sample(2000)\n",
        "\n",
        "samples.to_csv(file_name,index = False)"
      ],
      "metadata": {
        "id": "BiCckKejguCQ"
      },
      "execution_count": 46,
      "outputs": []
    }
  ],
  "metadata": {
    "colab": {
      "name": "scratchpad",
      "provenance": []
    },
    "kernelspec": {
      "display_name": "Python 3",
      "name": "python3"
    },
    "accelerator": "GPU",
    "gpuClass": "standard"
  },
  "nbformat": 4,
  "nbformat_minor": 0
}